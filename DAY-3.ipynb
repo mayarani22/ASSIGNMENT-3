{
 "cells": [
  {
   "cell_type": "markdown",
   "metadata": {},
   "source": [
    "ANS 1:"
   ]
  },
  {
   "cell_type": "code",
   "execution_count": 1,
   "metadata": {},
   "outputs": [
    {
     "name": "stdout",
     "output_type": "stream",
     "text": [
      "[ 2  5  8 11 14 17 20 23 26 29 32 35 38 41 44 47]\n"
     ]
    }
   ],
   "source": [
    "import numpy as np\n",
    "\n",
    "# creating a array using numpy arange\n",
    "arr = np.arange(2, 50, 3)\n",
    "\n",
    "# printing array\n",
    "print(arr)"
   ]
  },
  {
   "cell_type": "markdown",
   "metadata": {},
   "source": [
    "ANS 2:"
   ]
  },
  {
   "cell_type": "code",
   "execution_count": 2,
   "metadata": {},
   "outputs": [
    {
     "name": "stdout",
     "output_type": "stream",
     "text": [
      "\n",
      "Enter the value for lst_1 : 3\n",
      "\n",
      "Enter the value for lst_1 : 2\n",
      "\n",
      "Enter the value for lst_1 : 5\n",
      "\n",
      "Enter the value for lst_1 : 4\n",
      "\n",
      "Enter the value for lst_1 : 6\n",
      "\n",
      "Enter the value for lst_2 : 1\n",
      "\n",
      "Enter the value for lst_2 : 0\n",
      "\n",
      "Enter the value for lst_2 : 7\n",
      "\n",
      "Enter the value for lst_2 : 9\n",
      "\n",
      "Enter the value for lst_2 : 8\n",
      "\n",
      "Array value for concatenated arr : [3 2 5 4 6 1 0 7 9 8]\n",
      "\n",
      "Sorted Array for concatenated arr : [0 1 2 3 4 5 6 7 8 9]\n"
     ]
    }
   ],
   "source": [
    "import numpy as np\n",
    "\n",
    "# creating a 2 empty list:\n",
    "lst_1 = []\n",
    "lst_2 = []\n",
    "\n",
    "# getting values for lst_1 from user:\n",
    "for i in range(5):\n",
    "  x=int(input(\"\\nEnter the value for lst_1 : \"))\n",
    "  lst_1.append(x)\n",
    "\n",
    "# getting values for lst_2 from user:\n",
    "for i in range(5):\n",
    "  x=int(input(\"\\nEnter the value for lst_2 : \"))\n",
    "  lst_2.append(x)\n",
    "\n",
    "# converting list into array:\n",
    "arr_1 = np.array(lst_1)\n",
    "arr_2 = np.array(lst_2)\n",
    "\n",
    "# concatenating 2 array:\n",
    "arr = np.concatenate((arr_1, arr_2))\n",
    "print(\"\\nArray value for concatenated arr :\",arr)\n",
    "\n",
    "# sorting up concatenated array\n",
    "sortArr = np.sort(arr)\n",
    "print(\"\\nSorted Array for concatenated arr :\",sortArr)"
   ]
  },
  {
   "cell_type": "markdown",
   "metadata": {},
   "source": [
    "ANS 3:"
   ]
  },
  {
   "cell_type": "code",
   "execution_count": 3,
   "metadata": {},
   "outputs": [
    {
     "name": "stdout",
     "output_type": "stream",
     "text": [
      "\n",
      "Dimensions in array :  2\n",
      "\n",
      "Size of array :  6\n"
     ]
    }
   ],
   "source": [
    "import numpy as np\n",
    "\n",
    "# creating a 2d array\n",
    "arr = np.array([[1,2,3],[1,3,5]])\n",
    "\n",
    "# Printing array dimensions (axes)\n",
    "print(\"\\nDimensions in array : \", arr.ndim)\n",
    " \n",
    "# Printing size of array\n",
    "print(\"\\nSize of array : \", arr.size)"
   ]
  },
  {
   "cell_type": "markdown",
   "metadata": {},
   "source": [
    "ANS 4:"
   ]
  },
  {
   "cell_type": "code",
   "execution_count": 4,
   "metadata": {},
   "outputs": [
    {
     "name": "stdout",
     "output_type": "stream",
     "text": [
      "(6,)\n",
      "(1, 6)\n",
      "(6, 1)\n"
     ]
    }
   ],
   "source": [
    "arr = np.array([1, 2, 3, 4, 5, 6])\n",
    "print(arr.shape)\n",
    "\n",
    "# by adding new axis\n",
    "arr1 = arr[np.newaxis, :]\n",
    "print(arr1.shape)\n",
    "\n",
    "# by expanding dimension\n",
    "arr2 = np.expand_dims(arr, axis=1)\n",
    "print(arr2.shape)"
   ]
  },
  {
   "cell_type": "markdown",
   "metadata": {},
   "source": [
    "ANS 5:"
   ]
  },
  {
   "cell_type": "code",
   "execution_count": 5,
   "metadata": {},
   "outputs": [
    {
     "name": "stdout",
     "output_type": "stream",
     "text": [
      "\n",
      "Horizontal Append : [  1   4   9  16  25  36  49  64  81 100]\n",
      "Vertical Append :\n",
      " [[  1   4   9  16  25]\n",
      " [ 36  49  64  81 100]]\n"
     ]
    }
   ],
   "source": [
    "import numpy as np\n",
    "\n",
    "# creating a array with square values\n",
    "arr_1 = np.square([1, 2, 3, 4, 5])\n",
    "arr_2 = np.square([6, 7, 8, 9, 10])\n",
    "\n",
    "# stacking and printing the value\n",
    "print(\"\\nHorizontal Append :\", np.hstack((arr_1, arr_2)))\n",
    "print(\"Vertical Append :\\n\", np.vstack((arr_1, arr_2)))"
   ]
  },
  {
   "cell_type": "markdown",
   "metadata": {},
   "source": [
    "ANS 6:"
   ]
  },
  {
   "cell_type": "code",
   "execution_count": 10,
   "metadata": {},
   "outputs": [
    {
     "name": "stdout",
     "output_type": "stream",
     "text": [
      "[[ 1  2  3  4  5  6  7  8  9 10 16 25]\n",
      " [ 2  2  1  2  2  1  1  1  1  1  1  1]]\n"
     ]
    }
   ],
   "source": [
    "import numpy as np\n",
    "\n",
    "# creating a array \n",
    "arr_1 = np.array([1, 4, 9, 16, 25, 1, 4, 2, 3, 2, 5, 6, 5, 7, 8, 10])\n",
    "\n",
    "# getting unique charater and its count\n",
    "unique, counts = np.unique(arr_1, return_counts=True)\n",
    "\n",
    "# making a \n",
    "arr = np.asarray((unique, counts))\n",
    "\n",
    "print(arr)"
   ]
  }
 ],
 "metadata": {
  "kernelspec": {
   "display_name": "Python 3",
   "language": "python",
   "name": "python3"
  },
  "language_info": {
   "codemirror_mode": {
    "name": "ipython",
    "version": 3
   },
   "file_extension": ".py",
   "mimetype": "text/x-python",
   "name": "python",
   "nbconvert_exporter": "python",
   "pygments_lexer": "ipython3",
   "version": "3.8.3"
  }
 },
 "nbformat": 4,
 "nbformat_minor": 4
}
